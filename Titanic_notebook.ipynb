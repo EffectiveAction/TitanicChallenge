{
 "cells": [
  {
   "cell_type": "markdown",
   "metadata": {},
   "source": [
    "Let us start importing the training data and test data"
   ]
  },
  {
   "cell_type": "code",
   "execution_count": 63,
   "metadata": {},
   "outputs": [],
   "source": [
    "import pandas as pd\n",
    "data_raw=pd.read_csv(\"train.csv\")\n",
    "test_raw=pd.read_csv(\"test.csv\")"
   ]
  },
  {
   "cell_type": "markdown",
   "metadata": {},
   "source": [
    "Assumptions for a first run: \n",
    "(1) Name of the passenger and ticket number are irrelevant.\n",
    "(2) Cabin number could be very relevant but only ~1/5 of the data has this information. \n",
    "Let us implement this and clean up the data a little bit:"
   ]
  },
  {
   "cell_type": "code",
   "execution_count": 64,
   "metadata": {},
   "outputs": [],
   "source": [
    "data_cleaned=data_raw.drop([\"Name\",\"Ticket\",\"Cabin\",\"PassengerId\"],axis=\"columns\")\n",
    "test_cleaned=test_raw.drop([\"Name\",\"Ticket\",\"Cabin\",\"PassengerId\"],axis=\"columns\")\n",
    "\n",
    "data_cleaned=data_cleaned.dropna(axis=0)\n",
    "\n",
    "labels=data_cleaned[\"Survived\"]\n",
    "data_cleaned=data_cleaned.drop([\"Survived\"],axis=\"columns\")"
   ]
  },
  {
   "cell_type": "markdown",
   "metadata": {},
   "source": [
    "Next we need to One Hot Encode some categorical variables: Sex, Embarked (for both the data and test set)"
   ]
  },
  {
   "cell_type": "code",
   "execution_count": 65,
   "metadata": {},
   "outputs": [],
   "source": [
    "from sklearn.preprocessing import OneHotEncoder\n",
    "cols=[\"Sex\",\"Embarked\"]\n",
    "ohe=OneHotEncoder()\n",
    "ohe.fit(data_cleaned[cols])\n",
    "data_cleaned[ohe.get_feature_names_out()]=ohe.transform(data_cleaned[cols]).toarray()\n",
    "data_cleaned.drop(cols,axis=\"columns\",inplace=True)\n",
    "\n",
    "test_cleaned[ohe.get_feature_names_out()]=ohe.transform(test_cleaned[cols]).toarray()\n",
    "test_cleaned.drop(cols,axis=\"columns\",inplace=True)"
   ]
  },
  {
   "cell_type": "markdown",
   "metadata": {},
   "source": [
    "Finally we have to standardize the data to mean=0 and std=1"
   ]
  },
  {
   "cell_type": "code",
   "execution_count": 66,
   "metadata": {},
   "outputs": [],
   "source": [
    "from sklearn.preprocessing import StandardScaler\n",
    "scaler=StandardScaler().fit(data_cleaned)\n",
    "X=scaler.transform(data_cleaned)\n",
    "\n",
    "scaler=StandardScaler().fit(test_cleaned)\n",
    "X_test=scaler.transform(test_cleaned)"
   ]
  },
  {
   "cell_type": "markdown",
   "metadata": {},
   "source": [
    "The data is at this point ready to be used for learning. Let us start with a GridSearch of Logistic Regression. \n",
    "\n",
    "(1) The survival fraction is roughly 40% \n",
    "\n",
    "(2) We do not have incentives to either optimize the precision or the recall.\n",
    "\n",
    "We can therefore use accuracy as a valid score."
   ]
  },
  {
   "cell_type": "code",
   "execution_count": 67,
   "metadata": {},
   "outputs": [
    {
     "name": "stdout",
     "output_type": "stream",
     "text": [
      "{'C': 10, 'solver': 'newton-cg'}\n",
      "LogisticRegression(C=10, solver='newton-cg')\n"
     ]
    }
   ],
   "source": [
    "from sklearn.model_selection import GridSearchCV\n",
    "from sklearn.linear_model import LogisticRegression\n",
    "\n",
    "param_grid={'C':[0.001,0.01,0.1,1,10,100,1000],'solver':['newton-cg','lbfgs','liblinear','sag','saga']}\n",
    "\n",
    "log_reg=LogisticRegression()\n",
    "\n",
    "grid_search=GridSearchCV(log_reg,param_grid,cv=5,scoring='accuracy',return_train_score=True)\n",
    "\n",
    "grid_search.fit(X,labels)\n",
    "\n",
    "print(grid_search.best_params_)\n",
    "print(grid_search.best_estimator_)\n"
   ]
  },
  {
   "cell_type": "markdown",
   "metadata": {},
   "source": [
    "The gridsearch yields 'C:10' and solver: 'newton-cg'. Let us now check if this is a reasonable model without overfitting or any other abberations.\n",
    "We start by crossvalidating the scores on the training set."
   ]
  },
  {
   "cell_type": "code",
   "execution_count": 68,
   "metadata": {},
   "outputs": [
    {
     "name": "stdout",
     "output_type": "stream",
     "text": [
      "Scores:  [0.72727273 0.83216783 0.76760563 0.77464789 0.81690141]\n",
      "Mean: 0.7837190978036048\n",
      "Standard deviation 0.03735363149455805\n"
     ]
    }
   ],
   "source": [
    "from sklearn.model_selection import cross_val_score\n",
    "from sklearn.model_selection import cross_val_predict\n",
    "log_reg=LogisticRegression(C=10 ,solver='newton-cg')\n",
    "log_reg.fit(X,labels)\n",
    "scores=cross_val_score(log_reg,X,labels,cv=5,scoring=\"accuracy\")\n",
    "\n",
    "\n",
    "def display_scores(scores):\n",
    "    print(\"Scores: \", scores)\n",
    "    print(\"Mean:\", scores.mean())\n",
    "    print(\"Standard deviation\", scores.std())\n",
    "\n",
    "display_scores(scores)\n",
    "\n",
    "\n",
    "y_train_pred=cross_val_predict(log_reg,X,labels,cv=5)"
   ]
  },
  {
   "cell_type": "markdown",
   "metadata": {},
   "source": [
    "78% with a reasonably small standard deviation, that's not too bad. Let us also look at the learning curve to make sure there are no large gaps indicative of overfitting."
   ]
  },
  {
   "cell_type": "code",
   "execution_count": 69,
   "metadata": {},
   "outputs": [
    {
     "data": {
      "image/png": "[encoded data removed]",
      "text/plain": [
       "<Figure size 432x288 with 1 Axes>"
      ]
     },
     "metadata": {
      "needs_background": "light"
     },
     "output_type": "display_data"
    }
   ],
   "source": [
    "from sklearn.metrics import mean_squared_error\n",
    "from sklearn.model_selection import train_test_split\n",
    "from matplotlib import pyplot as plt\n",
    "import numpy as np\n",
    "\n",
    "def plot_learning_curves(model, X, y):\n",
    "    X_train, X_val, y_train, y_val = train_test_split(X, y, test_size=0.2)\n",
    "    train_errors, val_errors = [], []\n",
    "    for m in range(10, len(X_train)):\n",
    "        model.fit(X_train[:m], y_train[:m])\n",
    "        y_train_predict = model.predict(X_train[:m])\n",
    "        y_val_predict = model.predict(X_val)\n",
    "        train_errors.append(mean_squared_error(y_train[:m], y_train_predict))\n",
    "        val_errors.append(mean_squared_error(y_val, y_val_predict))\n",
    "    plt.plot(np.sqrt(train_errors), \"r-+\", linewidth=2, label=\"train\")\n",
    "    plt.plot(np.sqrt(val_errors), \"b-\", linewidth=3, label=\"val\")   \n",
    "    plt.title(\"Learning curve\", fontsize=24)\n",
    "    plt.xlabel(\"training set size\", fontsize=14)\n",
    "    plt.ylabel(\"RMS error\", fontsize=14)\n",
    "    plt.legend(loc=\"lower right\")\n",
    "    plt.show()\n",
    "\n",
    "log_reg=LogisticRegression(C=10 ,solver='newton-cg')\n",
    "plot_learning_curves(log_reg,X,labels)"
   ]
  },
  {
   "cell_type": "markdown",
   "metadata": {},
   "source": [
    "The learning curve does not seem to be indicative of overfitting as the gap between the two sets quickly closes. Let us also look at the ROC:"
   ]
  },
  {
   "cell_type": "code",
   "execution_count": 70,
   "metadata": {},
   "outputs": [
    {
     "data": {
      "image/png": "[encoded data removed]",
      "text/plain": [
       "<Figure size 432x288 with 1 Axes>"
      ]
     },
     "metadata": {
      "needs_background": "light"
     },
     "output_type": "display_data"
    }
   ],
   "source": [
    "log_reg=LogisticRegression(C=10 ,solver='newton-cg')\n",
    "log_reg.fit(X,labels)\n",
    "y_train_proba=cross_val_predict(log_reg,X,labels,cv=5 ,method='predict_proba')\n",
    "from sklearn.metrics import roc_curve\n",
    "fpr, tpr, thresholds = roc_curve(labels, y_train_proba[:,1])\n",
    "\n",
    "def plot_roc_curve(fpr, tpr, label=None):\n",
    "    plt.plot(fpr, tpr, linewidth=2, label='our model')\n",
    "    plt.plot([0, 1], [0, 1], 'k--',label='random classifier') # dashed diagonal\n",
    "    plt.title(\"ROC curve\", fontsize=24)\n",
    "    plt.xlabel(\"Recall\", fontsize=14)\n",
    "    plt.ylabel(\"FPR\", fontsize=14)\n",
    "    plt.legend(loc=\"lower right\")\n",
    "\n",
    "plot_roc_curve(fpr, tpr)\n",
    "plt.show()"
   ]
  },
  {
   "cell_type": "markdown",
   "metadata": {},
   "source": [
    "The ROC is not particularly impressive but shows no abberations. The model could arguably be improved further, but it seems to be a reasonable first result.\n",
    "\n",
    "Let us see if we can do any better and look at the data more closely.\n"
   ]
  },
  {
   "cell_type": "code",
   "execution_count": 71,
   "metadata": {},
   "outputs": [
    {
     "data": {
      "text/plain": [
       "Survived      1.000000\n",
       "Sex_female    0.536762\n",
       "Fare          0.266100\n",
       "Embarked_C    0.195673\n",
       "Parch         0.095265\n",
       "SibSp        -0.015523\n",
       "Embarked_Q   -0.048966\n",
       "Age          -0.082446\n",
       "Embarked_S   -0.159015\n",
       "Pclass       -0.356462\n",
       "Sex_male     -0.536762\n",
       "Name: Survived, dtype: float64"
      ]
     },
     "execution_count": 71,
     "metadata": {},
     "output_type": "execute_result"
    }
   ],
   "source": [
    "data_full=data_cleaned.join(labels)\n",
    "corr_matrix=data_full.corr()\n",
    "corr_matrix[\"Survived\"].sort_values(ascending=False)\n"
   ]
  },
  {
   "cell_type": "markdown",
   "metadata": {},
   "source": [
    "It seems that the survival rate is very strongly correlated with the sex. Let us try and remove the two lowest correlations."
   ]
  },
  {
   "cell_type": "code",
   "execution_count": 86,
   "metadata": {},
   "outputs": [
    {
     "name": "stdout",
     "output_type": "stream",
     "text": [
      "Scores:  [0.72727273 0.83216783 0.76760563 0.76056338 0.78873239]\n",
      "Mean: 0.7752683935782527\n",
      "Standard deviation 0.03463340790787578\n"
     ]
    }
   ],
   "source": [
    "data_cleaned2=data_cleaned.drop([\"SibSp\",\"Embarked_Q\"],axis=\"columns\")\n",
    "log_reg=LogisticRegression(C=10 ,solver='newton-cg')\n",
    "log_reg.fit(data_cleaned2,labels)\n",
    "scores=cross_val_score(log_reg,data_cleaned2,labels,cv=5,scoring=\"accuracy\")\n",
    "display_scores(scores)\n"
   ]
  },
  {
   "cell_type": "markdown",
   "metadata": {},
   "source": [
    "This doesn't seem to improve the result. Of course, if we only remove something and don't add any more features this will not result in a better model. Let us therefore try and include polynomial dependence. "
   ]
  },
  {
   "cell_type": "code",
   "execution_count": 73,
   "metadata": {},
   "outputs": [
    {
     "name": "stdout",
     "output_type": "stream",
     "text": [
      "Scores:  [0.72727273 0.83216783 0.76760563 0.76056338 0.78873239]\n",
      "Mean: 0.7752683935782527\n",
      "Standard deviation 0.03463340790787578\n"
     ]
    }
   ],
   "source": [
    "from sklearn.preprocessing import PolynomialFeatures\n",
    "poly_features = PolynomialFeatures(degree=2, include_bias=False)\n",
    "X_poly = poly_features.fit_transform(data_cleaned2)\n",
    "log_reg_poly = LogisticRegression(C=0.1,max_iter=3000,solver='newton-cg')\n",
    "log_reg_poly.fit(X_poly, labels)\n",
    "display_scores(scores)"
   ]
  },
  {
   "cell_type": "markdown",
   "metadata": {},
   "source": [
    "This does not seem to improve the accuracy by that much. Let us therefore choose our previous linear model as a final choice.\n",
    "\n",
    "Let us now make the predictions on the final test set for submission. However the test set still contains some NaN, so let us replace them by their average values below.\n"
   ]
  },
  {
   "cell_type": "code",
   "execution_count": 91,
   "metadata": {},
   "outputs": [
    {
     "name": "stdout",
     "output_type": "stream",
     "text": [
      "Index(['Pclass', 'Age', 'SibSp', 'Parch', 'Fare', 'Sex_female', 'Sex_male',\n",
      "       'Embarked_C', 'Embarked_Q', 'Embarked_S'],\n",
      "      dtype='object')\n"
     ]
    }
   ],
   "source": [
    "\n",
    "age_mean=data_cleaned[\"Age\"].mean()\n",
    "fare_mean=data_cleaned[\"Fare\"].mean()\n",
    "test_cleaned['Age'].fillna(age_mean,inplace=True)\n",
    "test_cleaned['Fare'].fillna(fare_mean,inplace=True)\n",
    " \n",
    "\n",
    "scaler=StandardScaler().fit(test_cleaned)\n",
    "X_test=scaler.transform(test_cleaned)\n",
    "\n",
    "\n",
    "log_reg=LogisticRegression(C=10 ,solver='newton-cg')\n",
    "log_reg.fit(X,labels)\n",
    "test_pred=log_reg.predict(X_test)"
   ]
  },
  {
   "cell_type": "markdown",
   "metadata": {},
   "source": [
    "Finally let us write to the CSV file as instructed by the challenge"
   ]
  },
  {
   "cell_type": "code",
   "execution_count": 94,
   "metadata": {},
   "outputs": [
    {
     "data": {
      "text/plain": [
       "892"
      ]
     },
     "execution_count": 94,
     "metadata": {},
     "output_type": "execute_result"
    }
   ],
   "source": [
    "test_raw[\"PassengerId\"][0]"
   ]
  },
  {
   "cell_type": "code",
   "execution_count": 102,
   "metadata": {},
   "outputs": [],
   "source": [
    "import csv\n",
    "\n",
    "filename='submission.csv'\n",
    " \n",
    "\n",
    "\n",
    "with open(filename,'w') as file:\n",
    "    file.write(\"PassengerId,Survived\")\n",
    "    file.write('\\n')\n",
    "    for i in range(len(test_pred)):\n",
    "        file.write(str(test_raw[\"PassengerId\"][i])+\",\"+str(test_pred[i]))\n",
    "        file.write('\\n')"
   ]
  },
  {
   "cell_type": "markdown",
   "metadata": {},
   "source": []
  }
 ],
 "metadata": {
  "kernelspec": {
   "display_name": "Python 3.9.3 64-bit",
   "language": "python",
   "name": "python3"
  },
  "language_info": {
   "codemirror_mode": {
    "name": "ipython",
    "version": 3
   },
   "file_extension": ".py",
   "mimetype": "text/x-python",
   "name": "python",
   "nbconvert_exporter": "python",
   "pygments_lexer": "ipython3",
   "version": "3.9.3"
  },
  "orig_nbformat": 4,
  "vscode": {
   "interpreter": {
    "hash": "91e9dc2e1acde25807dd7ce9cf53595c1733b24bc3727dc8a85387a6c4816d43"
   }
  }
 },
 "nbformat": 4,
 "nbformat_minor": 2
}
